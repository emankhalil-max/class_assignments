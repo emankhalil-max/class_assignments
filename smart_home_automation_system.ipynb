{
 "cells": [
  {
   "cell_type": "markdown",
   "id": "45ad67f2",
   "metadata": {},
   "source": [
    "# **Python Assignment: Smart Home Automation System**"
   ]
  },
  {
   "cell_type": "markdown",
   "id": "a385e568",
   "metadata": {},
   "source": [
    "## 1. Device Management(Lists and Tuples):"
   ]
  },
  {
   "cell_type": "markdown",
   "id": "f5d49c77",
   "metadata": {},
   "source": [
    "## Task 1.1: Create and Manage a List of Smart Devices"
   ]
  },
  {
   "cell_type": "code",
   "execution_count": null,
   "id": "b6ea1508",
   "metadata": {},
   "outputs": [
    {
     "name": "stdout",
     "output_type": "stream",
     "text": [
      "['Air Conditioner', 'Refrigerator', 'Dishwasher', 'Geaser', 'steamer', 'lights']\n",
      "['Air Conditioner', 'Refrigerator', 'Dishwasher', 'Geaser', 'lights']\n",
      "['Air Conditioner', 'Dishwasher', 'Geaser', 'Refrigerator', 'lights']\n"
     ]
    }
   ],
   "source": [
    "Devices = [\"Air Conditioner\", \"Refrigerator\", \"Dishwasher\", \"Geaser\", \"steamer\"]\n",
    "\n",
    "\n",
    "# Creating a function to add new device:\n",
    "def add_device():\n",
    "   name = input(\"Enter a new device: \")\n",
    "   return Devices.append(name)\n",
    "   \n",
    "add_device()\n",
    "print(Devices)\n",
    "\n",
    "\n",
    "# Creating a function to remove device:\n",
    "def remove_device():\n",
    "    name1 = input(\"Enter the device name to remove: \")\n",
    "    return Devices.remove(name1)\n",
    "\n",
    "remove_device()\n",
    "print(Devices)\n",
    "\n",
    "\n",
    "# Function to sort devices alphabetically\n",
    "def sorting_devices(Devices):\n",
    "    return Devices.sort()\n",
    "\n",
    "sorting_devices(Devices)\n",
    "print(Devices)"
   ]
  },
  {
   "cell_type": "markdown",
   "id": "aa5f244b",
   "metadata": {},
   "source": [
    "### Task 1.2: Store Devices Settings using Tuples"
   ]
  },
  {
   "cell_type": "code",
   "execution_count": 8,
   "id": "68995181",
   "metadata": {},
   "outputs": [
    {
     "name": "stdout",
     "output_type": "stream",
     "text": [
      "Air conditioner is consuming 2000 W and the device status is ON\n",
      "Refrigerator is consuming 1200 W and the device status is OFF\n",
      "Steamer is consuming 1000 W and the device status is ON\n",
      "Toaster is consuming 900 W and the device status is OFF\n"
     ]
    }
   ],
   "source": [
    "Store_Devices = {'Air conditioner': (2000, 'ON'),\n",
    "                 'Refrigerator': (1200, 'OFF'),\n",
    "                 'Steamer': (1000, 'ON'),\n",
    "                 'Toaster': (900, 'OFF')}\n",
    "\n",
    "def store_Devices_settings():\n",
    "    for key,value in Store_Devices.items():\n",
    "        power, status = value\n",
    "        print(f\"{key} is consuming {power} W and the device status is {status}\")\n",
    "        \n",
    "      \n",
    "        \n",
    "store_Devices_settings()        \n",
    "        \n",
    " "
   ]
  },
  {
   "cell_type": "markdown",
   "id": "138694eb",
   "metadata": {},
   "source": [
    "## 2. Energy Consumption Tracker (Dictionaries & Sets)"
   ]
  },
  {
   "cell_type": "markdown",
   "id": "7ab7b2ca",
   "metadata": {},
   "source": [
    "## Task 2.1: Store Device Energy Usage in a Dictionary"
   ]
  },
  {
   "cell_type": "code",
   "execution_count": 20,
   "id": "b7d3ac85",
   "metadata": {},
   "outputs": [
    {
     "name": "stdout",
     "output_type": "stream",
     "text": [
      "{'Fan': 5, 'A.C': 60, 'toaster': 70, 'Steamer': 50, 'washing machine': 70}\n",
      "The new device added to the list is ('washing machine') consuming ('70 units')\n"
     ]
    }
   ],
   "source": [
    "# Creating a function to add a new energy usage data\n",
    "\n",
    "Device_energy = {'Fan': 5, 'A.C': 60, 'toaster':70, \"Steamer\": 50}\n",
    "\n",
    "def energy_usage(key,value):\n",
    "    Device_energy[key] = value\n",
    "    print(Device_energy)\n",
    "    print(f\"The new device added to the list is ('{key}') consuming ('{value} units')\")\n",
    "        \n",
    "energy_usage(\"washing machine\", 70) \n",
    " "
   ]
  },
  {
   "cell_type": "code",
   "execution_count": null,
   "id": "fb518e98",
   "metadata": {},
   "outputs": [
    {
     "name": "stdout",
     "output_type": "stream",
     "text": [
      "{'Fan': 5, 'A.C': 60, 'toaster': 70, 'Steamer': 50}\n",
      "The updated usage of the steamer is 40 units\n"
     ]
    }
   ],
   "source": [
    "# Creating a function to update existing usage:\n",
    "Device_energy = {'Fan': 5, 'A.C': 60, 'toaster':70, \"Steamer\": 50}\n",
    "\n",
    "def update_existing_usage(key,value):\n",
    "    print(Device_energy)\n",
    "    Device_energy[key] = value\n",
    "    print(f\"The updated usage of the {key} is {value} units\")\n",
    "    \n",
    "update_existing_usage(\"steamer\", 40)    "
   ]
  },
  {
   "cell_type": "code",
   "execution_count": 3,
   "id": "e5bb2324",
   "metadata": {},
   "outputs": [
    {
     "name": "stdout",
     "output_type": "stream",
     "text": [
      "Steamer energy usage removed.\n",
      "{'Fan': 5, 'A.C': 60, 'toaster': 70, 'Steamer': 0}\n"
     ]
    }
   ],
   "source": [
    "Device_energy = {'Fan': 5, 'A.C': 60, 'toaster': 70, \"Steamer\": 50}\n",
    "\n",
    "def remove_device_energy(key):\n",
    "    if key in Device_energy:\n",
    "        Device_energy[key] = 0\n",
    "        print(f\"{key} energy usage removed.\")\n",
    "    else:\n",
    "        print(f\"{key} not found in the device list.\")\n",
    "\n",
    "    print(Device_energy)\n",
    "\n",
    "remove_device_energy(\"Steamer\")"
   ]
  },
  {
   "cell_type": "code",
   "execution_count": 10,
   "id": "7b05597a",
   "metadata": {},
   "outputs": [
    {
     "name": "stdout",
     "output_type": "stream",
     "text": [
      "Total energy consumption of the devices: 185 KWh\n"
     ]
    }
   ],
   "source": [
    "# Creating a function to show total energy consumption\n",
    "Device_energy = {'Fan': 5, 'A.C': 60, 'toaster': 70, \"Steamer\": 50}\n",
    "\n",
    "def total_energy_consumption():\n",
    "    total = 0\n",
    "    for value in Device_energy.values():\n",
    "        total += value\n",
    "    print(f\"Total energy consumption of the devices: {total} KWh\")\n",
    "        \n",
    "total_energy_consumption()        \n",
    "    "
   ]
  },
  {
   "cell_type": "markdown",
   "id": "5125cb3a",
   "metadata": {},
   "source": [
    "## Task 2.2: Identify Unique Power-Saving Modes Using Sets"
   ]
  },
  {
   "cell_type": "code",
   "execution_count": 11,
   "id": "02f22de8",
   "metadata": {},
   "outputs": [
    {
     "name": "stdout",
     "output_type": "stream",
     "text": [
      "{'Night mode', 'Sleep mode', 'Eco mode'}\n"
     ]
    }
   ],
   "source": [
    "#  Creating a set to store unique power-saving modes\n",
    "\n",
    "Modes = {\"Eco mode\", \"Night mode\"}\n",
    "\n",
    "# Creating a funtion to add a new mode:\n",
    "def adding_a_new_mode(mode):\n",
    "    if mode in Modes:\n",
    "        print(f\"{mode} already exists in the power-saving modes.\")\n",
    "    else:\n",
    "        Modes.add(mode)   \n",
    "        \n",
    "    print(Modes)\n",
    "    \n",
    "adding_a_new_mode(\"Sleep mode\")         "
   ]
  },
  {
   "cell_type": "code",
   "execution_count": 13,
   "id": "65e5bde1",
   "metadata": {},
   "outputs": [
    {
     "name": "stdout",
     "output_type": "stream",
     "text": [
      "Sleep mode is available!\n"
     ]
    }
   ],
   "source": [
    "# Creating a function to check if a mode is available:\n",
    "Modes = {\"Eco mode\", \"Night mode\", \"Sleep mode\", \"Day mode\", \"Busy mode\"}\n",
    "\n",
    "def checking_if_mode_is_available(mode):\n",
    "    if mode in Modes:\n",
    "        print(f\"{mode} is available!\")\n",
    "    else:\n",
    "        print(f\"{mode} isn't available. Sorry!\")    \n",
    "        \n",
    "checking_if_mode_is_available(\"Sleep mode\")        \n"
   ]
  },
  {
   "cell_type": "code",
   "execution_count": 14,
   "id": "ecfa90c7",
   "metadata": {},
   "outputs": [
    {
     "name": "stdout",
     "output_type": "stream",
     "text": [
      "Night mode\n",
      "Day mode\n",
      "Sleep mode\n",
      "Eco mode\n",
      "Busy mode\n"
     ]
    }
   ],
   "source": [
    "# Creating a function to view all power saving modes:\n",
    "Modes = {\"Eco mode\", \"Night mode\", \"Sleep mode\", \"Day mode\", \"Busy mode\"}\n",
    "\n",
    "def viewing_power_saving_modes():\n",
    "    for i in Modes:\n",
    "        print(i)\n",
    "        \n",
    "viewing_power_saving_modes()        "
   ]
  },
  {
   "cell_type": "markdown",
   "id": "6001b931",
   "metadata": {},
   "source": [
    "# 3. Functions for Smart Home Automation Task:"
   ]
  },
  {
   "cell_type": "markdown",
   "id": "3c67aeab",
   "metadata": {},
   "source": [
    "## 3.1: Create a Function to Calculate Monthly Energy Cost"
   ]
  },
  {
   "cell_type": "code",
   "execution_count": 1,
   "id": "fdbfd9bc",
   "metadata": {},
   "outputs": [
    {
     "name": "stdout",
     "output_type": "stream",
     "text": [
      "Total monthly energy cost is: 7200kwh\n"
     ]
    }
   ],
   "source": [
    "# creating a function to calculate energy cost\n",
    "\n",
    "def calculate_energy_cost(energy_usage,rate_per_hour):\n",
    "    print(f\"Total monthly energy cost is: {energy_usage*rate_per_hour}kwh\")\n",
    "\n",
    "\n",
    "calculate_energy_cost(160,45)    \n",
    "  "
   ]
  },
  {
   "cell_type": "markdown",
   "id": "cb01c095",
   "metadata": {},
   "source": [
    "## Task 3.2: Create a Function to Find Common Devices in Two Homes"
   ]
  },
  {
   "cell_type": "code",
   "execution_count": 10,
   "id": "b475fbca",
   "metadata": {},
   "outputs": [
    {
     "name": "stdout",
     "output_type": "stream",
     "text": [
      "['a.c', 'washing machine', 'stabilizer', 'toaster', 'coffee maker']\n"
     ]
    }
   ],
   "source": [
    "# Creating a function to give a common devices list from two homes\n",
    "home1 = [\"A.C\",\"Fan\",\"Steamer\",\"Washing machine\",\"Stabilizer\",\"Refrigerator\",\"Toaster\",\"Coffee maker\"]\n",
    "home2 = [\"A.c\",\"Coffee maker\",\"Cooker\",\"Heater\",\"Washing machine\",\"Stabilizer\",\"Toaster\"]\n",
    "\n",
    "def common_devices(home1,home2):\n",
    "    # Convert both lists to lowercase for case-insensitive comparison\n",
    "    home_1 = [device.lower() for device in home1]\n",
    "    home_2 = [device.lower() for device in home2]\n",
    "    \n",
    "    common = [device for device in home_1 if device in home_2]\n",
    "    return common\n",
    "print(common_devices(home1,home2))                  \n",
    "    "
   ]
  },
  {
   "cell_type": "markdown",
   "id": "3d3f3161",
   "metadata": {},
   "source": [
    "# 4. Automation Features (Advanced Functions):"
   ]
  },
  {
   "cell_type": "markdown",
   "id": "92f9ff97",
   "metadata": {},
   "source": [
    "## Task 4.1: Create an Automation Rule Using Functions"
   ]
  },
  {
   "cell_type": "code",
   "execution_count": 12,
   "id": "c03b8dea",
   "metadata": {},
   "outputs": [
    {
     "name": "stdout",
     "output_type": "stream",
     "text": [
      "Automation Rule: Turn A.C 'ON' at 10:00 P.M.\n"
     ]
    }
   ],
   "source": [
    "def set_automation_rule(device, time, action):\n",
    "    if action not in [\"ON\",\"OFF\"]:\n",
    "        return \"Invalid! Action must be in 'ON' or 'OFF'.\"\n",
    "    return f\"Automation Rule: Turn {device} '{action}' at {time}.\" \n",
    "\n",
    "print(set_automation_rule(\"A.C\",\"10:00 P.M\",\"ON\"))"
   ]
  },
  {
   "cell_type": "markdown",
   "id": "f3202fe5",
   "metadata": {},
   "source": [
    "## Task 4.2: Function to Optimize Power Consumption"
   ]
  },
  {
   "cell_type": "code",
   "execution_count": 15,
   "id": "1f799a14",
   "metadata": {},
   "outputs": [
    {
     "name": "stdout",
     "output_type": "stream",
     "text": [
      "[('AC', 1500), ('Heater', 2000)]\n"
     ]
    }
   ],
   "source": [
    "# Takes a list of devices with their power usage\n",
    "devices = [(\"Lights\", 60), (\"AC\", 1500), (\"Fan\", 40), (\"Heater\",2000)]\n",
    "\n",
    "def Optimize_Power_Consumption(devices):\n",
    "    updated_devices = [device for device in devices if device[1] > 1000]\n",
    "    return updated_devices\n",
    "print(Optimize_Power_Consumption(devices))\n",
    "        "
   ]
  },
  {
   "cell_type": "markdown",
   "id": "de2729cf",
   "metadata": {},
   "source": [
    "# **Bonus Task:**"
   ]
  },
  {
   "cell_type": "markdown",
   "id": "2649dd5b",
   "metadata": {},
   "source": [
    "# **5. Smart Home AI Assistant (Using *args & **kwargs):**"
   ]
  },
  {
   "cell_type": "code",
   "execution_count": 11,
   "id": "c17f6d64",
   "metadata": {},
   "outputs": [
    {
     "name": "stdout",
     "output_type": "stream",
     "text": [
      "Eman\n",
      "Steamer\n",
      "Toaster\n",
      "Washing machine\n",
      "\n",
      "The Refrigerator is ON\n",
      "The Printer is OFF\n"
     ]
    }
   ],
   "source": [
    "def smart_home_assistant(name, *args, **kwargs):\n",
    "    print(name)\n",
    "    for arg in args:\n",
    "        print(arg)\n",
    "    print()\n",
    "    for key,value in kwargs.items():\n",
    "        print(f\"The {key} is {value}\")\n",
    "        \n",
    "smart_home_assistant(\"Eman\",\n",
    "                     \"Steamer\",\"Toaster\",\"Washing machine\",\n",
    "                    Refrigerator =\"ON\",\n",
    "                    Printer = \"OFF\")           "
   ]
  },
  {
   "cell_type": "code",
   "execution_count": null,
   "id": "51db8035",
   "metadata": {},
   "outputs": [],
   "source": []
  }
 ],
 "metadata": {
  "kernelspec": {
   "display_name": "Python 3",
   "language": "python",
   "name": "python3"
  },
  "language_info": {
   "codemirror_mode": {
    "name": "ipython",
    "version": 3
   },
   "file_extension": ".py",
   "mimetype": "text/x-python",
   "name": "python",
   "nbconvert_exporter": "python",
   "pygments_lexer": "ipython3",
   "version": "3.12.10"
  }
 },
 "nbformat": 4,
 "nbformat_minor": 5
}
