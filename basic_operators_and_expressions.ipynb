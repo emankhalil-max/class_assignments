{
 "cells": [
  {
   "cell_type": "markdown",
   "id": "7398a702",
   "metadata": {},
   "source": [
    "# **Objective:**"
   ]
  },
  {
   "cell_type": "markdown",
   "id": "9d6333c6",
   "metadata": {},
   "source": [
    "#### Learn the basics of python by working with variables, understanding different data_types, and using operators and expressions to perform calculations."
   ]
  },
  {
   "cell_type": "markdown",
   "id": "8ff7564d",
   "metadata": {},
   "source": [
    "### Task 1:\n",
    "- Create variables for different data types(e.g., integer, float, string,boolean).\n",
    "- Print each variable with a descriptive message."
   ]
  },
  {
   "cell_type": "code",
   "execution_count": 2,
   "id": "5d6c17f0",
   "metadata": {},
   "outputs": [
    {
     "name": "stdout",
     "output_type": "stream",
     "text": [
      "Your string variable result is 124\n",
      "This is the output of your float variable: 10.5\n",
      "Your string is fruits\n",
      "Your statement is True\n"
     ]
    }
   ],
   "source": [
    "# Code here:\n",
    "# 1. String variable:\n",
    "num = 124\n",
    "print(f\"Your string variable result is {num}\")\n",
    "\n",
    "# 2. Float variable:\n",
    "num1 = 10.5\n",
    "print(f\"This is the output of your float variable: {num1}\")\n",
    "\n",
    "# 3.String variable:\n",
    "text = \"fruits\"\n",
    "print(f\"Your string is {text}\")\n",
    "\n",
    "# 4. Boolean variable\n",
    "text2 = True\n",
    "print(f\"Your statement is {text2}\")"
   ]
  },
  {
   "cell_type": "markdown",
   "id": "29b5e9b1",
   "metadata": {},
   "source": [
    "### Task 2: Operators and Expressions\n",
    "- Use arithmetic operators(addition, multiplication, division, modulus) to perform calculations.\n",
    "- Create expressions that combine variables and evaluate them using comparison operators.\n",
    "- Print the results of these expressions."
   ]
  },
  {
   "cell_type": "code",
   "execution_count": 8,
   "id": "565c1bd6",
   "metadata": {},
   "outputs": [
    {
     "name": "stdout",
     "output_type": "stream",
     "text": [
      "112\n",
      "40\n",
      "56\n",
      "2\n",
      "0\n"
     ]
    }
   ],
   "source": [
    "# code here\n",
    "# 1. Addition:\n",
    "a = 45\n",
    "b = 67\n",
    "print(a + b)\n",
    "\n",
    "# Subtraction:\n",
    "c = 90\n",
    "d = 50\n",
    "print(c - d)\n",
    "\n",
    "# 3. Multiplication:\n",
    "x = 7\n",
    "y = 8\n",
    "print(x * y)\n",
    "\n",
    "# 4. Division:\n",
    "p = 80\n",
    "q = 40\n",
    "print(p // q)\n",
    "\n",
    "# 5. Modulo:\n",
    "m = 10\n",
    "n = 20\n",
    "print(n % m)"
   ]
  },
  {
   "cell_type": "code",
   "execution_count": 14,
   "id": "ad98e31e",
   "metadata": {},
   "outputs": [
    {
     "name": "stdout",
     "output_type": "stream",
     "text": [
      "False\n",
      "False\n",
      "True\n",
      "False\n",
      "True\n",
      "True\n"
     ]
    }
   ],
   "source": [
    "# code here\n",
    "# 1. Greater than >\n",
    "e = 23\n",
    "f = 25\n",
    "\n",
    "print(e > f)\n",
    "\n",
    "# 2. Less than <\n",
    "o = 76\n",
    "p = 86\n",
    "\n",
    "print(p < o)\n",
    "\n",
    "# 3. Greater tha equal to\n",
    "r = 50\n",
    "s = 40\n",
    "\n",
    "print(r >= s)\n",
    "\n",
    "# 4. Less than equal to\n",
    "u = 32\n",
    "v = 30\n",
    "\n",
    "print(u <= v)\n",
    "\n",
    "# 5. Not equal to\n",
    "h = 5\n",
    "i = 7\n",
    "\n",
    "print(h != i)\n",
    "\n",
    "# 6. Equal to\n",
    "w = 9\n",
    "z = 9\n",
    "\n",
    "print(w == z)"
   ]
  },
  {
   "cell_type": "markdown",
   "id": "2799b252",
   "metadata": {},
   "source": [
    "### Task 3: Simple Calculator\n",
    "- Write a program that takes two numbers and calculates their sum, difference, product, and quotient.\n",
    "- Print the results with clear descriptions."
   ]
  },
  {
   "cell_type": "code",
   "execution_count": null,
   "id": "15e31585",
   "metadata": {},
   "outputs": [
    {
     "name": "stdout",
     "output_type": "stream",
     "text": [
      "2400\n"
     ]
    }
   ],
   "source": [
    "# code here\n",
    "num_1 = 40     # taking numbers inside variables\n",
    "num_2 = 60\n",
    "function_1 = input(\"Enter the function you want to perform (+, -, *, //, %): \")   # taking user iput to choose a function\n",
    "\n",
    "if function_1 == \"+\":\n",
    "    print(num_1 + num_2)\n",
    "elif function_1 == \"-\":\n",
    "    print(num_1 - num_2)    \n",
    "elif function_1 == \"*\":\n",
    "    print(num_1 * num_2) \n",
    "elif function_1 == \"//\":\n",
    "    print(num_1 // num_2)\n",
    "elif function_1 == \"%\":\n",
    "    print(num_1 % num_2)\n",
    "else:\n",
    "    print(\"Choose the correct operator.\")               "
   ]
  },
  {
   "cell_type": "markdown",
   "id": "994b619f",
   "metadata": {},
   "source": [
    "### Task 4: Bonus Task\n",
    "- Write a program that checks if a given number is even or odd using the modulo operator.\n",
    "- Print a message indicating whether the number is even or odd."
   ]
  },
  {
   "cell_type": "code",
   "execution_count": 23,
   "id": "2a5998c6",
   "metadata": {},
   "outputs": [
    {
     "name": "stdout",
     "output_type": "stream",
     "text": [
      "Odd\n"
     ]
    }
   ],
   "source": [
    "number = 7\n",
    "\n",
    "if number % 2 == 0:\n",
    "    print(\"even\")\n",
    "else: \n",
    "    print(\"Odd\")    "
   ]
  }
 ],
 "metadata": {
  "kernelspec": {
   "display_name": "Python 3",
   "language": "python",
   "name": "python3"
  },
  "language_info": {
   "codemirror_mode": {
    "name": "ipython",
    "version": 3
   },
   "file_extension": ".py",
   "mimetype": "text/x-python",
   "name": "python",
   "nbconvert_exporter": "python",
   "pygments_lexer": "ipython3",
   "version": "3.12.10"
  }
 },
 "nbformat": 4,
 "nbformat_minor": 5
}
